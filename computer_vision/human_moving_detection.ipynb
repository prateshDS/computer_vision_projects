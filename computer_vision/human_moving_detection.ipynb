{
 "cells": [
  {
   "cell_type": "code",
   "execution_count": 2,
   "id": "together-combine",
   "metadata": {},
   "outputs": [],
   "source": [
    "#Full Body Moving detection\n",
    "import numpy as np\n",
    "import cv2"
   ]
  },
  {
   "cell_type": "code",
   "execution_count": 3,
   "id": "realistic-ottawa",
   "metadata": {},
   "outputs": [],
   "source": [
    "moving_cascade = cv2.CascadeClassifier(cv2.data.haarcascades+'haarcascade_fullbody.xml')"
   ]
  },
  {
   "cell_type": "code",
   "execution_count": 16,
   "id": "bottom-specific",
   "metadata": {},
   "outputs": [],
   "source": [
    "#Now we will check moving humans in the video and we will highligth them with specifice color\n",
    "capture = cv2.VideoCapture('video/videoplayback.mp4')\n",
    "\n",
    "while capture.isOpened():\n",
    "    # read frame\n",
    "    rate, frame = capture.read()\n",
    "    #now convert frame into gray scale instead of having it in RGB form.. this trick enhances computation performance\n",
    "    video_frame_gray = cv2.cvtColor(frame, cv2.COLOR_BGR2GRAY)\n",
    "    \n",
    "    fullbody_shapes_in_frame = moving_cascade.detectMultiScale(video_frame_gray, 1.3,3)\n",
    "    \n",
    "    #Extract bounding boxes wherever the full body is detected\n",
    "    for (x, y, w_fr, h_fr) in fullbody_shapes_in_frame:\n",
    "        \n",
    "        #now lets create rectangle in original frame, around all detected full bodys which we have detected with the help of gray scale frame.\n",
    "        cv2.rectangle(frame, (x,y), (x+w_fr, y+h_fr), (0,255,255), 2)\n",
    "        cv2.imshow('Moving People', frame)\n",
    "        \n",
    "    if cv2.waitKey(1) == 13:\n",
    "        break\n",
    "\n",
    "capture.release()\n",
    "        \n",
    "    "
   ]
  },
  {
   "cell_type": "code",
   "execution_count": 17,
   "id": "sticky-majority",
   "metadata": {},
   "outputs": [],
   "source": [
    "cv2.destroyAllWindows()"
   ]
  },
  {
   "cell_type": "code",
   "execution_count": null,
   "id": "finnish-teacher",
   "metadata": {},
   "outputs": [],
   "source": [
    "#Ouput sample\n",
    "\n"
   ]
  }
 ],
 "metadata": {
  "kernelspec": {
   "display_name": "Python 3",
   "language": "python",
   "name": "python3"
  },
  "language_info": {
   "codemirror_mode": {
    "name": "ipython",
    "version": 3
   },
   "file_extension": ".py",
   "mimetype": "text/x-python",
   "name": "python",
   "nbconvert_exporter": "python",
   "pygments_lexer": "ipython3",
   "version": "3.9.2"
  }
 },
 "nbformat": 4,
 "nbformat_minor": 5
}
