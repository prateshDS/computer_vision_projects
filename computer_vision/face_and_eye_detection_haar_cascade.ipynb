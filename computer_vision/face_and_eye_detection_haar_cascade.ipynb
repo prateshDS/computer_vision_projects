{
 "cells": [
  {
   "cell_type": "code",
   "execution_count": 1,
   "id": "medical-there",
   "metadata": {},
   "outputs": [],
   "source": [
    "# Haar cascade -- https://docs.opencv.org/3.4/d2/d99/tutorial_js_face_detection.html\n",
    "# available in opencv\n",
    "import numpy as np\n",
    "import cv2"
   ]
  },
  {
   "cell_type": "code",
   "execution_count": 2,
   "id": "hairy-cliff",
   "metadata": {},
   "outputs": [],
   "source": [
    "#classifier xml\n",
    "face_classifier = cv2.CascadeClassifier(cv2.data.haarcascades + 'haarcascade_frontalface_default.xml')"
   ]
  },
  {
   "cell_type": "code",
   "execution_count": 3,
   "id": "frank-worth",
   "metadata": {},
   "outputs": [],
   "source": [
    "#load our image then convert it to grayscale\n",
    "image = cv2.imread('images/elon_musk.jpg')\n",
    "convert_grey_scale = cv2.cvtColor(image, cv2.COLOR_BGR2GRAY)"
   ]
  },
  {
   "cell_type": "code",
   "execution_count": null,
   "id": "appointed-title",
   "metadata": {},
   "outputs": [],
   "source": [
    "#Now in following code our classifier will return the tuple of the detected face.\n",
    "#it stores top left coodinates and the bottom right coordinates\n",
    "faces = face_classifier.detectMultiScale(convert_grey_scale, 1.3, 5)\n",
    "# faces has four values (X_coord, y_coord, width_of_face, height_of_face)"
   ]
  },
  {
   "cell_type": "code",
   "execution_count": null,
   "id": "presidential-mounting",
   "metadata": {},
   "outputs": [],
   "source": [
    "faces.shape"
   ]
  },
  {
   "cell_type": "code",
   "execution_count": null,
   "id": "competent-walker",
   "metadata": {},
   "outputs": [],
   "source": [
    "for (x, y, w_f, h_f) in faces:\n",
    "    cv2.rectangle(image, (x, y), (x+w_f, y+h_f), (127,0,255),2)  #RGB color (127,0,255)\n",
    "    cv2.imshow('Face Detection', image)\n",
    "    \n",
    "    \n",
    "    "
   ]
  },
  {
   "cell_type": "code",
   "execution_count": null,
   "id": "impressed-mileage",
   "metadata": {},
   "outputs": [],
   "source": [
    "cv2.waitKey()"
   ]
  },
  {
   "cell_type": "code",
   "execution_count": null,
   "id": "pending-exception",
   "metadata": {},
   "outputs": [],
   "source": [
    "cv2.destroyAllWindows()"
   ]
  },
  {
   "cell_type": "code",
   "execution_count": 5,
   "id": "industrial-input",
   "metadata": {},
   "outputs": [
    {
     "name": "stdout",
     "output_type": "stream",
     "text": [
      "Inside face_shape\n",
      "Face and eye shape\n",
      "Face and eye shape\n",
      "Face and eye shape\n"
     ]
    }
   ],
   "source": [
    "#Now lets combine face and eye together\n",
    "import numpy as np\n",
    "import cv2\n",
    "face_class = cv2.CascadeClassifier(cv2.data.haarcascades + 'haarcascade_frontalface_default.xml')\n",
    "eyes_class= cv2.CascadeClassifier(cv2.data.haarcascades+ 'haarcascade_eye.xml')\n",
    "#Now lets import the image and convert it into gray scale\n",
    "image = cv2.imread('Trump.jpg')\n",
    "gray = cv2.cvtColor(image, cv2.COLOR_BGR2GRAY)\n",
    "#cv2.imshow('Gray image', gray)\n",
    "#now lets detect face and then eye\n",
    "\n",
    "faces = face_class.detectMultiScale(gray, 1.3, 5)\n",
    "\n",
    "for (x, y, w_f, h_f) in faces:\n",
    "    print(\"Inside face_shape\")\n",
    "    cv2.rectangle(image, (x, y), (x+w_f, y+h_f), (127,0,255),2)  #RGB color (127,0,255)\n",
    "    cv2.imshow('image', image)\n",
    "    cv2.waitKey(0)\n",
    "    crop_face_gray = gray[y:y+h_f, x:x+w_f]\n",
    "    crop_face_color = image[y:y+h_f, x:x+w_f]\n",
    "    eyes_gray_shape = eyes_class.detectMultiScale(crop_face_gray)\n",
    "    for (e_x, e_y, w_e, h_e) in eyes_gray_shape:\n",
    "        print(\"Face and eye shape\")\n",
    "        cv2.rectangle(crop_face_color,(e_x,e_y),(e_x+w_e,e_y+h_e),(255,255,0),2)\n",
    "        cv2.imshow('img',crop_face_color)\n",
    "        cv2.waitKey(0)\n",
    "\n",
    "cv2.destroyAllWindows()"
   ]
  },
  {
   "cell_type": "code",
   "execution_count": null,
   "id": "passing-business",
   "metadata": {},
   "outputs": [],
   "source": []
  },
  {
   "cell_type": "code",
   "execution_count": null,
   "id": "quick-pressure",
   "metadata": {},
   "outputs": [],
   "source": []
  },
  {
   "cell_type": "code",
   "execution_count": null,
   "id": "inclusive-experiment",
   "metadata": {},
   "outputs": [],
   "source": []
  },
  {
   "cell_type": "code",
   "execution_count": null,
   "id": "automatic-biotechnology",
   "metadata": {},
   "outputs": [],
   "source": []
  },
  {
   "cell_type": "code",
   "execution_count": null,
   "id": "pursuant-economy",
   "metadata": {},
   "outputs": [],
   "source": [
    "\n"
   ]
  },
  {
   "cell_type": "code",
   "execution_count": null,
   "id": "generic-neighborhood",
   "metadata": {},
   "outputs": [],
   "source": []
  },
  {
   "cell_type": "code",
   "execution_count": null,
   "id": "brilliant-messaging",
   "metadata": {},
   "outputs": [],
   "source": []
  },
  {
   "cell_type": "code",
   "execution_count": null,
   "id": "twenty-meditation",
   "metadata": {},
   "outputs": [],
   "source": []
  }
 ],
 "metadata": {
  "kernelspec": {
   "display_name": "Python 3",
   "language": "python",
   "name": "python3"
  },
  "language_info": {
   "codemirror_mode": {
    "name": "ipython",
    "version": 3
   },
   "file_extension": ".py",
   "mimetype": "text/x-python",
   "name": "python",
   "nbconvert_exporter": "python",
   "pygments_lexer": "ipython3",
   "version": "3.9.2"
  }
 },
 "nbformat": 4,
 "nbformat_minor": 5
}
