{
 "cells": [
  {
   "cell_type": "code",
   "execution_count": 1,
   "id": "extraordinary-preview",
   "metadata": {},
   "outputs": [],
   "source": [
    "import numpy as np\n",
    "import cv2"
   ]
  },
  {
   "cell_type": "code",
   "execution_count": 2,
   "id": "appropriate-afternoon",
   "metadata": {},
   "outputs": [],
   "source": [
    "face_class = cv2.CascadeClassifier(cv2.data.haarcascades+'haarcascade_frontalface_default.xml')\n",
    "eye_class = cv2.CascadeClassifier(cv2.data.haarcascades+'haarcascade_eye.xml')\n",
    "def detect_face_eye(gray, frame):\n",
    "    face_shape = face_class.detectMultiScale(gray, 1.3, 5)\n",
    "    for (x, y, w_f, h_f) in face_shape:\n",
    "        \n",
    "        cv2.rectangle(frame, (x, y), (x+w_f,y+h_f), (255, 0, 0),2)\n",
    "        #cv2.imshow('frame', frame)\n",
    "        crop_gray_face_img = gray[y:y+h_f,x:x+w_f]\n",
    "        crop_color_face_img = frame[y:y+h_f,x:x+w_f]\n",
    "        eyes_shape = eye_class.detectMultiScale(crop_gray_face_img, 1.1, 3)\n",
    "        \n",
    "        for (xe,ye,ew,eh) in eyes_shape:\n",
    "            cv2.rectangle(crop_color_face_img, (xe, ye), (xe+ew, ye+eh), (0,255,0), 2)\n",
    "            \n",
    "    return frame\n",
    "        \n",
    "        "
   ]
  },
  {
   "cell_type": "code",
   "execution_count": 3,
   "id": "attached-unemployment",
   "metadata": {},
   "outputs": [],
   "source": [
    "cap = cv2.VideoCapture(0)\n",
    "while True:\n",
    "    rate, frame = cap.read() \n",
    "    gray = cv2.cvtColor(frame, cv2.COLOR_BGR2GRAY)\n",
    "    canvas = detect_face_eye(gray, frame)\n",
    "    cv2.imshow('Video', canvas)\n",
    "    if cv2.waitKey(1) & 0xFF == ord('q'):\n",
    "        break\n",
    "\n",
    "cap = cap.release()\n",
    "cv2.destroyAllWindows()\n",
    "    "
   ]
  },
  {
   "cell_type": "code",
   "execution_count": 5,
   "id": "local-maker",
   "metadata": {},
   "outputs": [],
   "source": [
    "cv2.destroyAllWindows()"
   ]
  },
  {
   "cell_type": "code",
   "execution_count": null,
   "id": "conservative-silver",
   "metadata": {},
   "outputs": [],
   "source": [
    "q"
   ]
  }
 ],
 "metadata": {
  "kernelspec": {
   "display_name": "Python 3",
   "language": "python",
   "name": "python3"
  },
  "language_info": {
   "codemirror_mode": {
    "name": "ipython",
    "version": 3
   },
   "file_extension": ".py",
   "mimetype": "text/x-python",
   "name": "python",
   "nbconvert_exporter": "python",
   "pygments_lexer": "ipython3",
   "version": "3.9.2"
  }
 },
 "nbformat": 4,
 "nbformat_minor": 5
}
