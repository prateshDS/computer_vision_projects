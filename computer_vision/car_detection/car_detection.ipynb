{
 "cells": [
  {
   "cell_type": "code",
   "execution_count": 14,
   "id": "intermediate-sentence",
   "metadata": {},
   "outputs": [],
   "source": [
    "#Detecting cars with by using Haarcascade or with pretrained car detection model (xml)\n",
    "import cv2\n",
    "import time"
   ]
  },
  {
   "cell_type": "code",
   "execution_count": 18,
   "id": "persistent-majority",
   "metadata": {},
   "outputs": [],
   "source": [
    "\n",
    "video = cv2.VideoCapture('car_vid1.mp4')\n",
    "#pretained car classifier\n",
    "classifier_file = 'car_detector.xml'\n",
    "\n",
    "#create car CascadeClassifier\n",
    "car_tracker = cv2.CascadeClassifier(classifier_file)\n",
    "\n",
    "while video.isOpened():\n",
    "    #Read the current frame\n",
    "    (read_successful, frame) = video.read()\n",
    "     \n",
    "    #safe coding\n",
    "   \n",
    "    #convert image in black and white, Instead of having RGB\n",
    "    black_n_white_frame = cv2.cvtColor(frame, cv2.COLOR_BGR2GRAY)\n",
    "   \n",
    "    #Detect the image according to pattern\n",
    "    cars = car_tracker.detectMultiScale(black_n_white_frame)\n",
    "    for (x,y,w,h) in cars:\n",
    "        cv2.rectangle(frame,(x, y),(x+w,y+h),(0,0,255),2)\n",
    "    \n",
    "    cv2.imshow(\"car detector\", frame)\n",
    "    if cv2.waitKey(1) == 13:\n",
    "        break\n",
    "\n",
    "cv2.destroyAllWindows()\n"
   ]
  },
  {
   "cell_type": "code",
   "execution_count": 8,
   "id": "combined-moral",
   "metadata": {},
   "outputs": [
    {
     "data": {
      "text/plain": [
       "'d:\\\\data_science\\\\environments\\\\opencv_env\\\\lib\\\\site-packages\\\\cv2\\\\data\\\\'"
      ]
     },
     "execution_count": 8,
     "metadata": {},
     "output_type": "execute_result"
    }
   ],
   "source": [
    "cv2.data.haarcascades"
   ]
  },
  {
   "cell_type": "code",
   "execution_count": null,
   "id": "north-hearing",
   "metadata": {},
   "outputs": [],
   "source": [
    "cv2.destroyAllWindows()"
   ]
  },
  {
   "cell_type": "code",
   "execution_count": null,
   "id": "cultural-diving",
   "metadata": {},
   "outputs": [],
   "source": [
    "\n"
   ]
  }
 ],
 "metadata": {
  "kernelspec": {
   "display_name": "Python 3",
   "language": "python",
   "name": "python3"
  },
  "language_info": {
   "codemirror_mode": {
    "name": "ipython",
    "version": 3
   },
   "file_extension": ".py",
   "mimetype": "text/x-python",
   "name": "python",
   "nbconvert_exporter": "python",
   "pygments_lexer": "ipython3",
   "version": "3.9.2"
  }
 },
 "nbformat": 4,
 "nbformat_minor": 5
}
